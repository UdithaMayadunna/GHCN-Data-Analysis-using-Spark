{
 "cells": [
  {
   "cell_type": "code",
   "execution_count": 1,
   "metadata": {},
   "outputs": [
    {
     "data": {
      "text/html": [
       "<style>pre { white-space: pre !important; }table.dataframe td { white-space: nowrap !important; }table.dataframe thead th:first-child, table.dataframe tbody th { display: none; }</style>"
      ],
      "text/plain": [
       "<IPython.core.display.HTML object>"
      ]
     },
     "metadata": {},
     "output_type": "display_data"
    }
   ],
   "source": [
    "# Run this cell to import pyspark and to define start_spark() and stop_spark()\n",
    "\n",
    "import findspark\n",
    "\n",
    "findspark.init()\n",
    "\n",
    "import getpass\n",
    "import pandas\n",
    "import pyspark\n",
    "import random\n",
    "import re\n",
    "\n",
    "from IPython.display import display, HTML\n",
    "from pyspark import SparkContext\n",
    "from pyspark.sql import SparkSession\n",
    "\n",
    "\n",
    "# Functions used below\n",
    "\n",
    "def username():\n",
    "    \"\"\"Get username with any domain information removed.\n",
    "    \"\"\"\n",
    "\n",
    "    return re.sub('@.*', '', getpass.getuser())\n",
    "\n",
    "\n",
    "def dict_to_html(d):\n",
    "    \"\"\"Convert a Python dictionary into a two column table for display.\n",
    "    \"\"\"\n",
    "\n",
    "    html = []\n",
    "\n",
    "    html.append(f'<table width=\"100%\" style=\"width:100%; font-family: monospace;\">')\n",
    "    for k, v in d.items():\n",
    "        html.append(f'<tr><td style=\"text-align:left;\">{k}</td><td>{v}</td></tr>')\n",
    "    html.append(f'</table>')\n",
    "\n",
    "    return ''.join(html)\n",
    "\n",
    "\n",
    "def show_as_html(df, n=20):\n",
    "    \"\"\"Leverage existing pandas jupyter integration to show a spark dataframe as html.\n",
    "    \n",
    "    Args:\n",
    "        n (int): number of rows to show (default: 20)\n",
    "    \"\"\"\n",
    "\n",
    "    display(df.limit(n).toPandas())\n",
    "\n",
    "    \n",
    "def display_spark():\n",
    "    \"\"\"Display the status of the active Spark session if one is currently running.\n",
    "    \"\"\"\n",
    "    \n",
    "    if 'spark' in globals() and 'sc' in globals():\n",
    "\n",
    "        name = sc.getConf().get(\"spark.app.name\")\n",
    "        \n",
    "        html = [\n",
    "            f'<p><b>Spark</b></p>',\n",
    "            f'<p>The spark session is <b><span style=\"color:green\">active</span></b>, look for <code>{name}</code> under the running applications section in the Spark UI.</p>',\n",
    "            f'<ul>',\n",
    "            f'<li><a href=\"http://mathmadslinux2p.canterbury.ac.nz:8080/\" target=\"_blank\">Spark UI</a></li>',\n",
    "            f'<li><a href=\"{sc.uiWebUrl}\" target=\"_blank\">Spark Application UI</a></li>',\n",
    "            f'</ul>',\n",
    "            f'<p><b>Config</b></p>',\n",
    "            dict_to_html(dict(sc.getConf().getAll())),\n",
    "            f'<p><b>Notes</b></p>',\n",
    "            f'<ul>',\n",
    "            f'<li>The spark session <code>spark</code> and spark context <code>sc</code> global variables have been defined by <code>start_spark()</code>.</li>',\n",
    "            f'<li>Please run <code>stop_spark()</code> before closing the notebook or restarting the kernel or kill <code>{name}</code> by hand using the link in the Spark UI.</li>',\n",
    "            f'</ul>',\n",
    "        ]\n",
    "        display(HTML(''.join(html)))\n",
    "        \n",
    "    else:\n",
    "        \n",
    "        html = [\n",
    "            f'<p><b>Spark</b></p>',\n",
    "            f'<p>The spark session is <b><span style=\"color:red\">stopped</span></b>, confirm that <code>{username() + \" (jupyter)\"}</code> is under the completed applications section in the Spark UI.</p>',\n",
    "            f'<ul>',\n",
    "            f'<li><a href=\"http://mathmadslinux2p.canterbury.ac.nz:8080/\" target=\"_blank\">Spark UI</a></li>',\n",
    "            f'</ul>',\n",
    "        ]\n",
    "        display(HTML(''.join(html)))\n",
    "\n",
    "\n",
    "# Functions to start and stop spark\n",
    "\n",
    "def start_spark(executor_instances=2, executor_cores=1, worker_memory=1, master_memory=1):\n",
    "    \"\"\"Start a new Spark session and define globals for SparkSession (spark) and SparkContext (sc).\n",
    "    \n",
    "    Args:\n",
    "        executor_instances (int): number of executors (default: 2)\n",
    "        executor_cores (int): number of cores per executor (default: 1)\n",
    "        worker_memory (float): worker memory (default: 1)\n",
    "        master_memory (float): master memory (default: 1)\n",
    "    \"\"\"\n",
    "\n",
    "    global spark\n",
    "    global sc\n",
    "\n",
    "    user = username()\n",
    "    \n",
    "    cores = executor_instances * executor_cores\n",
    "    partitions = cores * 4\n",
    "    port = 4000 + random.randint(1, 999)\n",
    "\n",
    "    spark = (\n",
    "        SparkSession.builder\n",
    "        .master(\"spark://masternode2:7077\")\n",
    "        .config(\"spark.driver.extraJavaOptions\", f\"-Dderby.system.home=/tmp/{user}/spark/\")\n",
    "        .config(\"spark.dynamicAllocation.enabled\", \"false\")\n",
    "        .config(\"spark.executor.instances\", str(executor_instances))\n",
    "        .config(\"spark.executor.cores\", str(executor_cores))\n",
    "        .config(\"spark.cores.max\", str(cores))\n",
    "        .config(\"spark.executor.memory\", f\"{worker_memory}g\")\n",
    "        .config(\"spark.driver.memory\", f\"{master_memory}g\")\n",
    "        .config(\"spark.driver.maxResultSize\", \"0\")\n",
    "        .config(\"spark.sql.shuffle.partitions\", str(partitions))\n",
    "        .config(\"spark.ui.port\", str(port))\n",
    "        .appName(user + \" (jupyter)\")\n",
    "        .getOrCreate()\n",
    "    )\n",
    "    sc = SparkContext.getOrCreate()\n",
    "    \n",
    "    display_spark()\n",
    "\n",
    "    \n",
    "def stop_spark():\n",
    "    \"\"\"Stop the active Spark session and delete globals for SparkSession (spark) and SparkContext (sc).\n",
    "    \"\"\"\n",
    "\n",
    "    global spark\n",
    "    global sc\n",
    "\n",
    "    if 'spark' in globals() and 'sc' in globals():\n",
    "\n",
    "        spark.stop()\n",
    "\n",
    "        del spark\n",
    "        del sc\n",
    "\n",
    "    display_spark()\n",
    "\n",
    "\n",
    "# Make css changes to improve spark output readability\n",
    "\n",
    "html = [\n",
    "    '<style>',\n",
    "    'pre { white-space: pre !important; }',\n",
    "    'table.dataframe td { white-space: nowrap !important; }',\n",
    "    'table.dataframe thead th:first-child, table.dataframe tbody th { display: none; }',\n",
    "    '</style>',\n",
    "]\n",
    "display(HTML(''.join(html)))"
   ]
  },
  {
   "cell_type": "code",
   "execution_count": 2,
   "metadata": {},
   "outputs": [
    {
     "data": {
      "text/html": [
       "<p><b>Spark</b></p><p>The spark session is <b><span style=\"color:green\">active</span></b>, look for <code>uwi14 (jupyter)</code> under the running applications section in the Spark UI.</p><ul><li><a href=\"http://mathmadslinux2p.canterbury.ac.nz:8080/\" target=\"_blank\">Spark UI</a></li><li><a href=\"http://mathmadslinux2p.canterbury.ac.nz:4567\" target=\"_blank\">Spark Application UI</a></li></ul><p><b>Config</b></p><table width=\"100%\" style=\"width:100%; font-family: monospace;\"><tr><td style=\"text-align:left;\">spark.dynamicAllocation.enabled</td><td>false</td></tr><tr><td style=\"text-align:left;\">spark.executor.instances</td><td>4</td></tr><tr><td style=\"text-align:left;\">spark.ui.port</td><td>4567</td></tr><tr><td style=\"text-align:left;\">spark.driver.memory</td><td>4g</td></tr><tr><td style=\"text-align:left;\">spark.executor.memory</td><td>4g</td></tr><tr><td style=\"text-align:left;\">spark.master</td><td>spark://masternode2:7077</td></tr><tr><td style=\"text-align:left;\">spark.executor.id</td><td>driver</td></tr><tr><td style=\"text-align:left;\">spark.app.id</td><td>app-20240501233317-0578</td></tr><tr><td style=\"text-align:left;\">spark.executor.cores</td><td>2</td></tr><tr><td style=\"text-align:left;\">spark.driver.host</td><td>mathmadslinux2p.canterbury.ac.nz</td></tr><tr><td style=\"text-align:left;\">spark.sql.shuffle.partitions</td><td>32</td></tr><tr><td style=\"text-align:left;\">spark.app.name</td><td>uwi14 (jupyter)</td></tr><tr><td style=\"text-align:left;\">spark.rdd.compress</td><td>True</td></tr><tr><td style=\"text-align:left;\">spark.sql.warehouse.dir</td><td>file:/users/home/uwi14/Uditha/Assignment1/spark-warehouse</td></tr><tr><td style=\"text-align:left;\">spark.app.startTime</td><td>1714563196471</td></tr><tr><td style=\"text-align:left;\">spark.driver.maxResultSize</td><td>0</td></tr><tr><td style=\"text-align:left;\">spark.cores.max</td><td>8</td></tr><tr><td style=\"text-align:left;\">spark.serializer.objectStreamReset</td><td>100</td></tr><tr><td style=\"text-align:left;\">spark.submit.pyFiles</td><td></td></tr><tr><td style=\"text-align:left;\">spark.submit.deployMode</td><td>client</td></tr><tr><td style=\"text-align:left;\">spark.ui.showConsoleProgress</td><td>true</td></tr><tr><td style=\"text-align:left;\">spark.driver.extraJavaOptions</td><td>-Dderby.system.home=/tmp/uwi14/spark/</td></tr><tr><td style=\"text-align:left;\">spark.driver.port</td><td>41295</td></tr></table><p><b>Notes</b></p><ul><li>The spark session <code>spark</code> and spark context <code>sc</code> global variables have been defined by <code>start_spark()</code>.</li><li>Please run <code>stop_spark()</code> before closing the notebook or restarting the kernel or kill <code>uwi14 (jupyter)</code> by hand using the link in the Spark UI.</li></ul>"
      ],
      "text/plain": [
       "<IPython.core.display.HTML object>"
      ]
     },
     "metadata": {},
     "output_type": "display_data"
    }
   ],
   "source": [
    "# Run this cell to start a spark session in this notebook\n",
    "\n",
    "start_spark(executor_instances=4, executor_cores=2, worker_memory=4, master_memory=4)"
   ]
  },
  {
   "cell_type": "code",
   "execution_count": 3,
   "metadata": {},
   "outputs": [],
   "source": [
    "# Write your imports and code here or insert cells below\n",
    "\n",
    "from pyspark.sql import Row, DataFrame, Window, functions as F\n",
    "from pyspark.sql.types import *"
   ]
  },
  {
   "cell_type": "markdown",
   "metadata": {},
   "source": [
    "# Question 3\n",
    "\n",
    "### (a)Recall the hdfs commands that you used to explore the data in Processing Q1. You would have used\n",
    "###    hdfs dfs -ls [path]\n",
    "###    hdfs dfs -du [path]\n",
    "### to determine the size of files under a specific path in HDFS."
   ]
  },
  {
   "cell_type": "code",
   "execution_count": 4,
   "metadata": {},
   "outputs": [
    {
     "name": "stdout",
     "output_type": "stream",
     "text": [
      "Found 263 items\r\n",
      "-rw-r--r--   8 jsw93 supergroup     517706 2024-03-18 23:56 /data/ghcnd/daily/1750.csv.gz\r\n",
      "-rw-r--r--   8 jsw93 supergroup       3358 2024-03-18 23:57 /data/ghcnd/daily/1763.csv.gz\r\n",
      "-rw-r--r--   8 jsw93 supergroup       3327 2024-03-18 23:54 /data/ghcnd/daily/1764.csv.gz\r\n",
      "-rw-r--r--   8 jsw93 supergroup       3335 2024-03-18 23:54 /data/ghcnd/daily/1765.csv.gz\r\n",
      "-rw-r--r--   8 jsw93 supergroup       3344 2024-03-18 23:49 /data/ghcnd/daily/1766.csv.gz\r\n",
      "-rw-r--r--   8 jsw93 supergroup       3356 2024-03-18 23:56 /data/ghcnd/daily/1767.csv.gz\r\n",
      "-rw-r--r--   8 jsw93 supergroup       3325 2024-03-18 23:53 /data/ghcnd/daily/1768.csv.gz\r\n",
      "-rw-r--r--   8 jsw93 supergroup       3418 2024-03-18 23:54 /data/ghcnd/daily/1769.csv.gz\r\n",
      "-rw-r--r--   8 jsw93 supergroup       3357 2024-03-18 23:56 /data/ghcnd/daily/1770.csv.gz\r\n",
      "-rw-r--r--   8 jsw93 supergroup       3373 2024-03-18 23:56 /data/ghcnd/daily/1771.csv.gz\r\n",
      "-rw-r--r--   8 jsw93 supergroup       3419 2024-03-18 23:55 /data/ghcnd/daily/1772.csv.gz\r\n",
      "-rw-r--r--   8 jsw93 supergroup       3368 2024-03-18 23:57 /data/ghcnd/daily/1773.csv.gz\r\n",
      "-rw-r--r--   8 jsw93 supergroup       3393 2024-03-18 23:54 /data/ghcnd/daily/1774.csv.gz\r\n",
      "-rw-r--r--   8 jsw93 supergroup       6365 2024-03-18 23:51 /data/ghcnd/daily/1775.csv.gz\r\n",
      "-rw-r--r--   8 jsw93 supergroup       6425 2024-03-18 23:56 /data/ghcnd/daily/1776.csv.gz\r\n",
      "-rw-r--r--   8 jsw93 supergroup       6424 2024-03-18 23:56 /data/ghcnd/daily/1777.csv.gz\r\n",
      "-rw-r--r--   8 jsw93 supergroup       6240 2024-03-18 23:50 /data/ghcnd/daily/1778.csv.gz\r\n",
      "-rw-r--r--   8 jsw93 supergroup       6144 2024-03-18 23:54 /data/ghcnd/daily/1779.csv.gz\r\n",
      "-rw-r--r--   8 jsw93 supergroup       6245 2024-03-18 23:50 /data/ghcnd/daily/1780.csv.gz\r\n",
      "-rw-r--r--   8 jsw93 supergroup       7799 2024-03-18 23:52 /data/ghcnd/daily/1781.csv.gz\r\n",
      "-rw-r--r--   8 jsw93 supergroup       7808 2024-03-18 23:52 /data/ghcnd/daily/1782.csv.gz\r\n",
      "-rw-r--r--   8 jsw93 supergroup       7920 2024-03-18 23:56 /data/ghcnd/daily/1783.csv.gz\r\n",
      "-rw-r--r--   8 jsw93 supergroup       7946 2024-03-18 23:52 /data/ghcnd/daily/1784.csv.gz\r\n",
      "-rw-r--r--   8 jsw93 supergroup       7804 2024-03-18 23:56 /data/ghcnd/daily/1785.csv.gz\r\n",
      "-rw-r--r--   8 jsw93 supergroup       7891 2024-03-18 23:51 /data/ghcnd/daily/1786.csv.gz\r\n",
      "-rw-r--r--   8 jsw93 supergroup       6336 2024-03-18 23:53 /data/ghcnd/daily/1787.csv.gz\r\n",
      "-rw-r--r--   8 jsw93 supergroup       6394 2024-03-18 23:54 /data/ghcnd/daily/1788.csv.gz\r\n",
      "-rw-r--r--   8 jsw93 supergroup       7773 2024-03-18 23:56 /data/ghcnd/daily/1789.csv.gz\r\n",
      "-rw-r--r--   8 jsw93 supergroup       7786 2024-03-18 23:53 /data/ghcnd/daily/1790.csv.gz\r\n",
      "-rw-r--r--   8 jsw93 supergroup       7734 2024-03-18 23:52 /data/ghcnd/daily/1791.csv.gz\r\n",
      "-rw-r--r--   8 jsw93 supergroup       7806 2024-03-18 23:52 /data/ghcnd/daily/1792.csv.gz\r\n",
      "-rw-r--r--   8 jsw93 supergroup       6342 2024-03-18 23:54 /data/ghcnd/daily/1793.csv.gz\r\n",
      "-rw-r--r--   8 jsw93 supergroup       7770 2024-03-18 23:50 /data/ghcnd/daily/1794.csv.gz\r\n",
      "-rw-r--r--   8 jsw93 supergroup       7843 2024-03-18 23:55 /data/ghcnd/daily/1795.csv.gz\r\n",
      "-rw-r--r--   8 jsw93 supergroup       7821 2024-03-18 23:50 /data/ghcnd/daily/1796.csv.gz\r\n",
      "-rw-r--r--   8 jsw93 supergroup       9239 2024-03-18 23:50 /data/ghcnd/daily/1797.csv.gz\r\n",
      "-rw-r--r--   8 jsw93 supergroup       9290 2024-03-18 23:50 /data/ghcnd/daily/1798.csv.gz\r\n",
      "-rw-r--r--   8 jsw93 supergroup       6351 2024-03-18 23:50 /data/ghcnd/daily/1799.csv.gz\r\n",
      "-rw-r--r--   8 jsw93 supergroup       7783 2024-03-18 23:51 /data/ghcnd/daily/1800.csv.gz\r\n",
      "-rw-r--r--   8 jsw93 supergroup       7801 2024-03-18 23:50 /data/ghcnd/daily/1801.csv.gz\r\n",
      "-rw-r--r--   8 jsw93 supergroup       9195 2024-03-18 23:56 /data/ghcnd/daily/1802.csv.gz\r\n",
      "-rw-r--r--   8 jsw93 supergroup       7892 2024-03-18 23:54 /data/ghcnd/daily/1803.csv.gz\r\n",
      "-rw-r--r--   8 jsw93 supergroup       8727 2024-03-18 23:53 /data/ghcnd/daily/1804.csv.gz\r\n",
      "-rw-r--r--   8 jsw93 supergroup       8901 2024-03-18 23:57 /data/ghcnd/daily/1805.csv.gz\r\n",
      "-rw-r--r--   8 jsw93 supergroup       8598 2024-03-18 23:52 /data/ghcnd/daily/1806.csv.gz\r\n",
      "-rw-r--r--   8 jsw93 supergroup       8725 2024-03-18 23:53 /data/ghcnd/daily/1807.csv.gz\r\n",
      "-rw-r--r--   8 jsw93 supergroup       8928 2024-03-18 23:50 /data/ghcnd/daily/1808.csv.gz\r\n",
      "-rw-r--r--   8 jsw93 supergroup       8778 2024-03-18 23:51 /data/ghcnd/daily/1809.csv.gz\r\n",
      "-rw-r--r--   8 jsw93 supergroup       8829 2024-03-18 23:52 /data/ghcnd/daily/1810.csv.gz\r\n",
      "-rw-r--r--   8 jsw93 supergroup       8932 2024-03-18 23:54 /data/ghcnd/daily/1811.csv.gz\r\n",
      "-rw-r--r--   8 jsw93 supergroup       8993 2024-03-18 23:56 /data/ghcnd/daily/1812.csv.gz\r\n",
      "-rw-r--r--   8 jsw93 supergroup       9264 2024-03-18 23:50 /data/ghcnd/daily/1813.csv.gz\r\n",
      "-rw-r--r--   8 jsw93 supergroup      10833 2024-03-18 23:56 /data/ghcnd/daily/1814.csv.gz\r\n",
      "-rw-r--r--   8 jsw93 supergroup      13884 2024-03-18 23:51 /data/ghcnd/daily/1815.csv.gz\r\n",
      "-rw-r--r--   8 jsw93 supergroup      13865 2024-03-18 23:56 /data/ghcnd/daily/1816.csv.gz\r\n",
      "-rw-r--r--   8 jsw93 supergroup      13758 2024-03-18 23:53 /data/ghcnd/daily/1817.csv.gz\r\n",
      "-rw-r--r--   8 jsw93 supergroup      13758 2024-03-18 23:50 /data/ghcnd/daily/1818.csv.gz\r\n",
      "-rw-r--r--   8 jsw93 supergroup      13690 2024-03-18 23:57 /data/ghcnd/daily/1819.csv.gz\r\n",
      "-rw-r--r--   8 jsw93 supergroup      13997 2024-03-18 23:49 /data/ghcnd/daily/1820.csv.gz\r\n",
      "-rw-r--r--   8 jsw93 supergroup      13792 2024-03-18 23:54 /data/ghcnd/daily/1821.csv.gz\r\n",
      "-rw-r--r--   8 jsw93 supergroup      14049 2024-03-18 23:53 /data/ghcnd/daily/1822.csv.gz\r\n",
      "-rw-r--r--   8 jsw93 supergroup      14745 2024-03-18 23:50 /data/ghcnd/daily/1823.csv.gz\r\n",
      "-rw-r--r--   8 jsw93 supergroup      18035 2024-03-18 23:50 /data/ghcnd/daily/1824.csv.gz\r\n",
      "-rw-r--r--   8 jsw93 supergroup      18101 2024-03-18 23:50 /data/ghcnd/daily/1825.csv.gz\r\n",
      "-rw-r--r--   8 jsw93 supergroup      18403 2024-03-18 23:54 /data/ghcnd/daily/1826.csv.gz\r\n",
      "-rw-r--r--   8 jsw93 supergroup      20855 2024-03-18 23:52 /data/ghcnd/daily/1827.csv.gz\r\n",
      "-rw-r--r--   8 jsw93 supergroup      20981 2024-03-18 23:50 /data/ghcnd/daily/1828.csv.gz\r\n",
      "-rw-r--r--   8 jsw93 supergroup      21141 2024-03-18 23:56 /data/ghcnd/daily/1829.csv.gz\r\n",
      "-rw-r--r--   8 jsw93 supergroup      21306 2024-03-18 23:53 /data/ghcnd/daily/1830.csv.gz\r\n",
      "-rw-r--r--   8 jsw93 supergroup      21319 2024-03-18 23:52 /data/ghcnd/daily/1831.csv.gz\r\n",
      "-rw-r--r--   8 jsw93 supergroup      22435 2024-03-18 23:52 /data/ghcnd/daily/1832.csv.gz\r\n",
      "-rw-r--r--   8 jsw93 supergroup      27286 2024-03-18 23:55 /data/ghcnd/daily/1833.csv.gz\r\n",
      "-rw-r--r--   8 jsw93 supergroup      27098 2024-03-18 23:50 /data/ghcnd/daily/1834.csv.gz\r\n",
      "-rw-r--r--   8 jsw93 supergroup      27516 2024-03-18 23:53 /data/ghcnd/daily/1835.csv.gz\r\n",
      "-rw-r--r--   8 jsw93 supergroup      29812 2024-03-18 23:50 /data/ghcnd/daily/1836.csv.gz\r\n",
      "-rw-r--r--   8 jsw93 supergroup      29339 2024-03-18 23:53 /data/ghcnd/daily/1837.csv.gz\r\n",
      "-rw-r--r--   8 jsw93 supergroup      31700 2024-03-18 23:53 /data/ghcnd/daily/1838.csv.gz\r\n",
      "-rw-r--r--   8 jsw93 supergroup      29587 2024-03-18 23:54 /data/ghcnd/daily/1839.csv.gz\r\n",
      "-rw-r--r--   8 jsw93 supergroup      35991 2024-03-18 23:50 /data/ghcnd/daily/1840.csv.gz\r\n",
      "-rw-r--r--   8 jsw93 supergroup      36990 2024-03-18 23:52 /data/ghcnd/daily/1841.csv.gz\r\n",
      "-rw-r--r--   8 jsw93 supergroup      39432 2024-03-18 23:52 /data/ghcnd/daily/1842.csv.gz\r\n",
      "-rw-r--r--   8 jsw93 supergroup      39397 2024-03-18 23:50 /data/ghcnd/daily/1843.csv.gz\r\n",
      "-rw-r--r--   8 jsw93 supergroup      43316 2024-03-18 23:54 /data/ghcnd/daily/1844.csv.gz\r\n",
      "-rw-r--r--   8 jsw93 supergroup      47105 2024-03-18 23:56 /data/ghcnd/daily/1845.csv.gz\r\n",
      "-rw-r--r--   8 jsw93 supergroup      44647 2024-03-18 23:54 /data/ghcnd/daily/1846.csv.gz\r\n",
      "-rw-r--r--   8 jsw93 supergroup      46181 2024-03-18 23:56 /data/ghcnd/daily/1847.csv.gz\r\n",
      "-rw-r--r--   8 jsw93 supergroup      45048 2024-03-18 23:54 /data/ghcnd/daily/1848.csv.gz\r\n",
      "-rw-r--r--   8 jsw93 supergroup      47371 2024-03-18 23:50 /data/ghcnd/daily/1849.csv.gz\r\n",
      "-rw-r--r--   8 jsw93 supergroup      47552 2024-03-18 23:56 /data/ghcnd/daily/1850.csv.gz\r\n",
      "-rw-r--r--   8 jsw93 supergroup      55032 2024-03-18 23:50 /data/ghcnd/daily/1851.csv.gz\r\n",
      "-rw-r--r--   8 jsw93 supergroup      58865 2024-03-18 23:53 /data/ghcnd/daily/1852.csv.gz\r\n",
      "-rw-r--r--   8 jsw93 supergroup      59631 2024-03-18 23:51 /data/ghcnd/daily/1853.csv.gz\r\n",
      "-rw-r--r--   8 jsw93 supergroup      59258 2024-03-18 23:55 /data/ghcnd/daily/1854.csv.gz\r\n",
      "-rw-r--r--   8 jsw93 supergroup      64887 2024-03-18 23:53 /data/ghcnd/daily/1855.csv.gz\r\n",
      "-rw-r--r--   8 jsw93 supergroup      76292 2024-03-18 23:55 /data/ghcnd/daily/1856.csv.gz\r\n",
      "-rw-r--r--   8 jsw93 supergroup      83128 2024-03-18 23:55 /data/ghcnd/daily/1857.csv.gz\r\n",
      "-rw-r--r--   8 jsw93 supergroup     115535 2024-03-18 23:50 /data/ghcnd/daily/1858.csv.gz\r\n",
      "-rw-r--r--   8 jsw93 supergroup     128727 2024-03-18 23:56 /data/ghcnd/daily/1859.csv.gz\r\n",
      "-rw-r--r--   8 jsw93 supergroup     137798 2024-03-18 23:50 /data/ghcnd/daily/1860.csv.gz\r\n",
      "-rw-r--r--   8 jsw93 supergroup     143140 2024-03-18 23:50 /data/ghcnd/daily/1861.csv.gz\r\n",
      "-rw-r--r--   8 jsw93 supergroup     137811 2024-03-18 23:52 /data/ghcnd/daily/1862.csv.gz\r\n",
      "-rw-r--r--   8 jsw93 supergroup     155000 2024-03-18 23:49 /data/ghcnd/daily/1863.csv.gz\r\n",
      "-rw-r--r--   8 jsw93 supergroup     159466 2024-03-18 23:54 /data/ghcnd/daily/1864.csv.gz\r\n",
      "-rw-r--r--   8 jsw93 supergroup     160531 2024-03-18 23:56 /data/ghcnd/daily/1865.csv.gz\r\n",
      "-rw-r--r--   8 jsw93 supergroup     208166 2024-03-18 23:50 /data/ghcnd/daily/1866.csv.gz\r\n",
      "-rw-r--r--   8 jsw93 supergroup     249331 2024-03-18 23:54 /data/ghcnd/daily/1867.csv.gz\r\n",
      "-rw-r--r--   8 jsw93 supergroup     262203 2024-03-18 23:52 /data/ghcnd/daily/1868.csv.gz\r\n",
      "-rw-r--r--   8 jsw93 supergroup     303439 2024-03-18 23:54 /data/ghcnd/daily/1869.csv.gz\r\n",
      "-rw-r--r--   8 jsw93 supergroup     348087 2024-03-18 23:51 /data/ghcnd/daily/1870.csv.gz\r\n",
      "-rw-r--r--   8 jsw93 supergroup     458274 2024-03-18 23:54 /data/ghcnd/daily/1871.csv.gz\r\n",
      "-rw-r--r--   8 jsw93 supergroup     621837 2024-03-18 23:51 /data/ghcnd/daily/1872.csv.gz\r\n",
      "-rw-r--r--   8 jsw93 supergroup     695994 2024-03-18 23:50 /data/ghcnd/daily/1873.csv.gz\r\n",
      "-rw-r--r--   8 jsw93 supergroup     778728 2024-03-18 23:54 /data/ghcnd/daily/1874.csv.gz\r\n",
      "-rw-r--r--   8 jsw93 supergroup     846682 2024-03-18 23:55 /data/ghcnd/daily/1875.csv.gz\r\n",
      "-rw-r--r--   8 jsw93 supergroup     917762 2024-03-18 23:56 /data/ghcnd/daily/1876.csv.gz\r\n",
      "-rw-r--r--   8 jsw93 supergroup    1023524 2024-03-18 23:55 /data/ghcnd/daily/1877.csv.gz\r\n",
      "-rw-r--r--   8 jsw93 supergroup    1216637 2024-03-18 23:52 /data/ghcnd/daily/1878.csv.gz\r\n",
      "-rw-r--r--   8 jsw93 supergroup    1395605 2024-03-18 23:56 /data/ghcnd/daily/1879.csv.gz\r\n",
      "-rw-r--r--   8 jsw93 supergroup    1757438 2024-03-18 23:55 /data/ghcnd/daily/1880.csv.gz\r\n",
      "-rw-r--r--   8 jsw93 supergroup    2092310 2024-03-18 23:53 /data/ghcnd/daily/1881.csv.gz\r\n",
      "-rw-r--r--   8 jsw93 supergroup    2383483 2024-03-18 23:50 /data/ghcnd/daily/1882.csv.gz\r\n",
      "-rw-r--r--   8 jsw93 supergroup    2632037 2024-03-18 23:53 /data/ghcnd/daily/1883.csv.gz\r\n",
      "-rw-r--r--   8 jsw93 supergroup    3148275 2024-03-18 23:55 /data/ghcnd/daily/1884.csv.gz\r\n",
      "-rw-r--r--   8 jsw93 supergroup    3573924 2024-03-18 23:55 /data/ghcnd/daily/1885.csv.gz\r\n",
      "-rw-r--r--   8 jsw93 supergroup    3917883 2024-03-18 23:55 /data/ghcnd/daily/1886.csv.gz\r\n",
      "-rw-r--r--   8 jsw93 supergroup    4408281 2024-03-18 23:53 /data/ghcnd/daily/1887.csv.gz\r\n",
      "-rw-r--r--   8 jsw93 supergroup    4747314 2024-03-18 23:51 /data/ghcnd/daily/1888.csv.gz\r\n",
      "-rw-r--r--   8 jsw93 supergroup    5151816 2024-03-18 23:53 /data/ghcnd/daily/1889.csv.gz\r\n",
      "-rw-r--r--   8 jsw93 supergroup    5617595 2024-03-18 23:51 /data/ghcnd/daily/1890.csv.gz\r\n",
      "-rw-r--r--   8 jsw93 supergroup    5887970 2024-03-18 23:53 /data/ghcnd/daily/1891.csv.gz\r\n",
      "-rw-r--r--   8 jsw93 supergroup    6794490 2024-03-18 23:57 /data/ghcnd/daily/1892.csv.gz\r\n",
      "-rw-r--r--   8 jsw93 supergroup   12518573 2024-03-18 23:50 /data/ghcnd/daily/1893.csv.gz\r\n",
      "-rw-r--r--   8 jsw93 supergroup   13382910 2024-03-18 23:53 /data/ghcnd/daily/1894.csv.gz\r\n",
      "-rw-r--r--   8 jsw93 supergroup   14453168 2024-03-18 23:56 /data/ghcnd/daily/1895.csv.gz\r\n",
      "-rw-r--r--   8 jsw93 supergroup   15584934 2024-03-18 23:54 /data/ghcnd/daily/1896.csv.gz\r\n",
      "-rw-r--r--   8 jsw93 supergroup   16834783 2024-03-18 23:57 /data/ghcnd/daily/1897.csv.gz\r\n",
      "-rw-r--r--   8 jsw93 supergroup   17568404 2024-03-18 23:51 /data/ghcnd/daily/1898.csv.gz\r\n",
      "-rw-r--r--   8 jsw93 supergroup   18261126 2024-03-18 23:52 /data/ghcnd/daily/1899.csv.gz\r\n",
      "-rw-r--r--   8 jsw93 supergroup   19509289 2024-03-18 23:52 /data/ghcnd/daily/1900.csv.gz\r\n",
      "-rw-r--r--   8 jsw93 supergroup   24809775 2024-03-18 23:55 /data/ghcnd/daily/1901.csv.gz\r\n",
      "-rw-r--r--   8 jsw93 supergroup   25742697 2024-03-18 23:52 /data/ghcnd/daily/1902.csv.gz\r\n",
      "-rw-r--r--   8 jsw93 supergroup   26279812 2024-03-18 23:53 /data/ghcnd/daily/1903.csv.gz\r\n",
      "-rw-r--r--   8 jsw93 supergroup   27132792 2024-03-18 23:57 /data/ghcnd/daily/1904.csv.gz\r\n",
      "-rw-r--r--   8 jsw93 supergroup   28542246 2024-03-18 23:53 /data/ghcnd/daily/1905.csv.gz\r\n",
      "-rw-r--r--   8 jsw93 supergroup   29171545 2024-03-18 23:56 /data/ghcnd/daily/1906.csv.gz\r\n",
      "-rw-r--r--   8 jsw93 supergroup   29898159 2024-03-18 23:51 /data/ghcnd/daily/1907.csv.gz\r\n",
      "-rw-r--r--   8 jsw93 supergroup   30598818 2024-03-18 23:53 /data/ghcnd/daily/1908.csv.gz\r\n",
      "-rw-r--r--   8 jsw93 supergroup   32222575 2024-03-18 23:50 /data/ghcnd/daily/1909.csv.gz\r\n",
      "-rw-r--r--   8 jsw93 supergroup   33303023 2024-03-18 23:50 /data/ghcnd/daily/1910.csv.gz\r\n",
      "-rw-r--r--   8 jsw93 supergroup   34509481 2024-03-18 23:55 /data/ghcnd/daily/1911.csv.gz\r\n",
      "-rw-r--r--   8 jsw93 supergroup   35809100 2024-03-18 23:50 /data/ghcnd/daily/1912.csv.gz\r\n",
      "-rw-r--r--   8 jsw93 supergroup   36755750 2024-03-18 23:52 /data/ghcnd/daily/1913.csv.gz\r\n",
      "-rw-r--r--   8 jsw93 supergroup   37941673 2024-03-18 23:53 /data/ghcnd/daily/1914.csv.gz\r\n",
      "-rw-r--r--   8 jsw93 supergroup   39102481 2024-03-18 23:50 /data/ghcnd/daily/1915.csv.gz\r\n",
      "-rw-r--r--   8 jsw93 supergroup   40434826 2024-03-18 23:51 /data/ghcnd/daily/1916.csv.gz\r\n",
      "-rw-r--r--   8 jsw93 supergroup   40654601 2024-03-18 23:56 /data/ghcnd/daily/1917.csv.gz\r\n",
      "-rw-r--r--   8 jsw93 supergroup   39716221 2024-03-18 23:50 /data/ghcnd/daily/1918.csv.gz\r\n",
      "-rw-r--r--   8 jsw93 supergroup   39253748 2024-03-18 23:54 /data/ghcnd/daily/1919.csv.gz\r\n",
      "-rw-r--r--   8 jsw93 supergroup   39491555 2024-03-18 23:53 /data/ghcnd/daily/1920.csv.gz\r\n",
      "-rw-r--r--   8 jsw93 supergroup   39748597 2024-03-18 23:52 /data/ghcnd/daily/1921.csv.gz\r\n",
      "-rw-r--r--   8 jsw93 supergroup   40470242 2024-03-18 23:54 /data/ghcnd/daily/1922.csv.gz\r\n",
      "-rw-r--r--   8 jsw93 supergroup   41210729 2024-03-18 23:54 /data/ghcnd/daily/1923.csv.gz\r\n",
      "-rw-r--r--   8 jsw93 supergroup   42037214 2024-03-18 23:54 /data/ghcnd/daily/1924.csv.gz\r\n",
      "-rw-r--r--   8 jsw93 supergroup   42303743 2024-03-18 23:51 /data/ghcnd/daily/1925.csv.gz\r\n",
      "-rw-r--r--   8 jsw93 supergroup   43495054 2024-03-18 23:54 /data/ghcnd/daily/1926.csv.gz\r\n",
      "-rw-r--r--   8 jsw93 supergroup   44262489 2024-03-18 23:51 /data/ghcnd/daily/1927.csv.gz\r\n",
      "-rw-r--r--   8 jsw93 supergroup   44787540 2024-03-18 23:57 /data/ghcnd/daily/1928.csv.gz\r\n",
      "-rw-r--r--   8 jsw93 supergroup   45743322 2024-03-18 23:56 /data/ghcnd/daily/1929.csv.gz\r\n",
      "-rw-r--r--   8 jsw93 supergroup   47123859 2024-03-18 23:55 /data/ghcnd/daily/1930.csv.gz\r\n",
      "-rw-r--r--   8 jsw93 supergroup   48687150 2024-03-18 23:49 /data/ghcnd/daily/1931.csv.gz\r\n",
      "-rw-r--r--   8 jsw93 supergroup   49739740 2024-03-18 23:56 /data/ghcnd/daily/1932.csv.gz\r\n",
      "-rw-r--r--   8 jsw93 supergroup   50189322 2024-03-18 23:55 /data/ghcnd/daily/1933.csv.gz\r\n",
      "-rw-r--r--   8 jsw93 supergroup   50510455 2024-03-18 23:55 /data/ghcnd/daily/1934.csv.gz\r\n",
      "-rw-r--r--   8 jsw93 supergroup   51471341 2024-03-18 23:53 /data/ghcnd/daily/1935.csv.gz\r\n",
      "-rw-r--r--   8 jsw93 supergroup   54583489 2024-03-18 23:56 /data/ghcnd/daily/1936.csv.gz\r\n",
      "-rw-r--r--   8 jsw93 supergroup   55923499 2024-03-18 23:54 /data/ghcnd/daily/1937.csv.gz\r\n",
      "-rw-r--r--   8 jsw93 supergroup   57040435 2024-03-18 23:56 /data/ghcnd/daily/1938.csv.gz\r\n",
      "-rw-r--r--   8 jsw93 supergroup   58779978 2024-03-18 23:52 /data/ghcnd/daily/1939.csv.gz\r\n",
      "-rw-r--r--   8 jsw93 supergroup   60992936 2024-03-18 23:52 /data/ghcnd/daily/1940.csv.gz\r\n",
      "-rw-r--r--   8 jsw93 supergroup   62866123 2024-03-18 23:51 /data/ghcnd/daily/1941.csv.gz\r\n",
      "-rw-r--r--   8 jsw93 supergroup   64942474 2024-03-18 23:53 /data/ghcnd/daily/1942.csv.gz\r\n",
      "-rw-r--r--   8 jsw93 supergroup   65746374 2024-03-18 23:51 /data/ghcnd/daily/1943.csv.gz\r\n",
      "-rw-r--r--   8 jsw93 supergroup   67455624 2024-03-18 23:53 /data/ghcnd/daily/1944.csv.gz\r\n",
      "-rw-r--r--   8 jsw93 supergroup   69898920 2024-03-18 23:53 /data/ghcnd/daily/1945.csv.gz\r\n",
      "-rw-r--r--   8 jsw93 supergroup   70349764 2024-03-18 23:53 /data/ghcnd/daily/1946.csv.gz\r\n",
      "-rw-r--r--   8 jsw93 supergroup   72082716 2024-03-18 23:49 /data/ghcnd/daily/1947.csv.gz\r\n",
      "-rw-r--r--   8 jsw93 supergroup   85869107 2024-03-18 23:52 /data/ghcnd/daily/1948.csv.gz\r\n",
      "-rw-r--r--   8 jsw93 supergroup   98267372 2024-03-18 23:55 /data/ghcnd/daily/1949.csv.gz\r\n",
      "-rw-r--r--   8 jsw93 supergroup  101262739 2024-03-18 23:51 /data/ghcnd/daily/1950.csv.gz\r\n",
      "-rw-r--r--   8 jsw93 supergroup  104444843 2024-03-18 23:56 /data/ghcnd/daily/1951.csv.gz\r\n",
      "-rw-r--r--   8 jsw93 supergroup  105807214 2024-03-18 23:51 /data/ghcnd/daily/1952.csv.gz\r\n",
      "-rw-r--r--   8 jsw93 supergroup  107267279 2024-03-18 23:54 /data/ghcnd/daily/1953.csv.gz\r\n",
      "-rw-r--r--   8 jsw93 supergroup  109267476 2024-03-18 23:56 /data/ghcnd/daily/1954.csv.gz\r\n",
      "-rw-r--r--   8 jsw93 supergroup  111595862 2024-03-18 23:55 /data/ghcnd/daily/1955.csv.gz\r\n",
      "-rw-r--r--   8 jsw93 supergroup  113748710 2024-03-18 23:54 /data/ghcnd/daily/1956.csv.gz\r\n",
      "-rw-r--r--   8 jsw93 supergroup  116373929 2024-03-18 23:52 /data/ghcnd/daily/1957.csv.gz\r\n",
      "-rw-r--r--   8 jsw93 supergroup  117509148 2024-03-18 23:52 /data/ghcnd/daily/1958.csv.gz\r\n",
      "-rw-r--r--   8 jsw93 supergroup  119859261 2024-03-18 23:55 /data/ghcnd/daily/1959.csv.gz\r\n",
      "-rw-r--r--   8 jsw93 supergroup  122199738 2024-03-18 23:56 /data/ghcnd/daily/1960.csv.gz\r\n",
      "-rw-r--r--   8 jsw93 supergroup  125966374 2024-03-18 23:55 /data/ghcnd/daily/1961.csv.gz\r\n",
      "-rw-r--r--   8 jsw93 supergroup  128645955 2024-03-18 23:53 /data/ghcnd/daily/1962.csv.gz\r\n",
      "-rw-r--r--   8 jsw93 supergroup  131584069 2024-03-18 23:52 /data/ghcnd/daily/1963.csv.gz\r\n",
      "-rw-r--r--   8 jsw93 supergroup  132547011 2024-03-18 23:50 /data/ghcnd/daily/1964.csv.gz\r\n",
      "-rw-r--r--   8 jsw93 supergroup  136836385 2024-03-18 23:57 /data/ghcnd/daily/1965.csv.gz\r\n",
      "-rw-r--r--   8 jsw93 supergroup  138634244 2024-03-18 23:55 /data/ghcnd/daily/1966.csv.gz\r\n",
      "-rw-r--r--   8 jsw93 supergroup  139951903 2024-03-18 23:54 /data/ghcnd/daily/1967.csv.gz\r\n",
      "-rw-r--r--   8 jsw93 supergroup  139530095 2024-03-18 23:53 /data/ghcnd/daily/1968.csv.gz\r\n",
      "-rw-r--r--   8 jsw93 supergroup  141299817 2024-03-18 23:53 /data/ghcnd/daily/1969.csv.gz\r\n",
      "-rw-r--r--   8 jsw93 supergroup  142164837 2024-03-18 23:52 /data/ghcnd/daily/1970.csv.gz\r\n",
      "-rw-r--r--   8 jsw93 supergroup  136910250 2024-03-18 23:51 /data/ghcnd/daily/1971.csv.gz\r\n",
      "-rw-r--r--   8 jsw93 supergroup  135990448 2024-03-18 23:51 /data/ghcnd/daily/1972.csv.gz\r\n",
      "-rw-r--r--   8 jsw93 supergroup  142450678 2024-03-18 23:54 /data/ghcnd/daily/1973.csv.gz\r\n",
      "-rw-r--r--   8 jsw93 supergroup  143636783 2024-03-18 23:50 /data/ghcnd/daily/1974.csv.gz\r\n",
      "-rw-r--r--   8 jsw93 supergroup  143102873 2024-03-18 23:56 /data/ghcnd/daily/1975.csv.gz\r\n",
      "-rw-r--r--   8 jsw93 supergroup  142891678 2024-03-18 23:52 /data/ghcnd/daily/1976.csv.gz\r\n",
      "-rw-r--r--   8 jsw93 supergroup  142698032 2024-03-18 23:54 /data/ghcnd/daily/1977.csv.gz\r\n",
      "-rw-r--r--   8 jsw93 supergroup  142869734 2024-03-18 23:56 /data/ghcnd/daily/1978.csv.gz\r\n",
      "-rw-r--r--   8 jsw93 supergroup  143163083 2024-03-18 23:55 /data/ghcnd/daily/1979.csv.gz\r\n",
      "-rw-r--r--   8 jsw93 supergroup  143517737 2024-03-18 23:50 /data/ghcnd/daily/1980.csv.gz\r\n",
      "-rw-r--r--   8 jsw93 supergroup  146423479 2024-03-18 23:50 /data/ghcnd/daily/1981.csv.gz\r\n",
      "-rw-r--r--   8 jsw93 supergroup  148197772 2024-03-18 23:50 /data/ghcnd/daily/1982.csv.gz\r\n",
      "-rw-r--r--   8 jsw93 supergroup  149562411 2024-03-18 23:57 /data/ghcnd/daily/1983.csv.gz\r\n",
      "-rw-r--r--   8 jsw93 supergroup  148090236 2024-03-18 23:53 /data/ghcnd/daily/1984.csv.gz\r\n",
      "-rw-r--r--   8 jsw93 supergroup  146530138 2024-03-18 23:56 /data/ghcnd/daily/1985.csv.gz\r\n",
      "-rw-r--r--   8 jsw93 supergroup  145597955 2024-03-18 23:50 /data/ghcnd/daily/1986.csv.gz\r\n",
      "-rw-r--r--   8 jsw93 supergroup  145645964 2024-03-18 23:50 /data/ghcnd/daily/1987.csv.gz\r\n",
      "-rw-r--r--   8 jsw93 supergroup  146406952 2024-03-18 23:50 /data/ghcnd/daily/1988.csv.gz\r\n",
      "-rw-r--r--   8 jsw93 supergroup  146864229 2024-03-18 23:50 /data/ghcnd/daily/1989.csv.gz\r\n",
      "-rw-r--r--   8 jsw93 supergroup  147019349 2024-03-18 23:52 /data/ghcnd/daily/1990.csv.gz\r\n",
      "-rw-r--r--   8 jsw93 supergroup  147653904 2024-03-18 23:52 /data/ghcnd/daily/1991.csv.gz\r\n",
      "-rw-r--r--   8 jsw93 supergroup  147855404 2024-03-18 23:54 /data/ghcnd/daily/1992.csv.gz\r\n",
      "-rw-r--r--   8 jsw93 supergroup  146720983 2024-03-18 23:55 /data/ghcnd/daily/1993.csv.gz\r\n",
      "-rw-r--r--   8 jsw93 supergroup  145672442 2024-03-18 23:57 /data/ghcnd/daily/1994.csv.gz\r\n",
      "-rw-r--r--   8 jsw93 supergroup  145341316 2024-03-18 23:52 /data/ghcnd/daily/1995.csv.gz\r\n",
      "-rw-r--r--   8 jsw93 supergroup  145646453 2024-03-18 23:56 /data/ghcnd/daily/1996.csv.gz\r\n",
      "-rw-r--r--   8 jsw93 supergroup  144444697 2024-03-18 23:51 /data/ghcnd/daily/1997.csv.gz\r\n",
      "-rw-r--r--   8 jsw93 supergroup  147707005 2024-03-18 23:49 /data/ghcnd/daily/1998.csv.gz\r\n",
      "-rw-r--r--   8 jsw93 supergroup  150432459 2024-03-18 23:53 /data/ghcnd/daily/1999.csv.gz\r\n",
      "-rw-r--r--   8 jsw93 supergroup  152395970 2024-03-18 23:57 /data/ghcnd/daily/2000.csv.gz\r\n",
      "-rw-r--r--   8 jsw93 supergroup  154827293 2024-03-18 23:56 /data/ghcnd/daily/2001.csv.gz\r\n",
      "-rw-r--r--   8 jsw93 supergroup  156354049 2024-03-18 23:53 /data/ghcnd/daily/2002.csv.gz\r\n",
      "-rw-r--r--   8 jsw93 supergroup  159865215 2024-03-18 23:51 /data/ghcnd/daily/2003.csv.gz\r\n",
      "-rw-r--r--   8 jsw93 supergroup  162164519 2024-03-18 23:51 /data/ghcnd/daily/2004.csv.gz\r\n",
      "-rw-r--r--   8 jsw93 supergroup  159024101 2024-03-18 23:56 /data/ghcnd/daily/2005.csv.gz\r\n",
      "-rw-r--r--   8 jsw93 supergroup  165266555 2024-03-18 23:53 /data/ghcnd/daily/2006.csv.gz\r\n",
      "-rw-r--r--   8 jsw93 supergroup  168123865 2024-03-18 23:55 /data/ghcnd/daily/2007.csv.gz\r\n",
      "-rw-r--r--   8 jsw93 supergroup  175370852 2024-03-18 23:55 /data/ghcnd/daily/2008.csv.gz\r\n",
      "-rw-r--r--   8 jsw93 supergroup  178206528 2024-03-18 23:54 /data/ghcnd/daily/2009.csv.gz\r\n",
      "-rw-r--r--   8 jsw93 supergroup  179822379 2024-03-18 23:53 /data/ghcnd/daily/2010.csv.gz\r\n",
      "-rw-r--r--   8 jsw93 supergroup  170584652 2024-03-18 23:51 /data/ghcnd/daily/2011.csv.gz\r\n",
      "-rw-r--r--   8 jsw93 supergroup  168201433 2024-03-18 23:50 /data/ghcnd/daily/2012.csv.gz\r\n",
      "-rw-r--r--   8 jsw93 supergroup  163518642 2024-03-18 23:51 /data/ghcnd/daily/2013.csv.gz\r\n",
      "-rw-r--r--   8 jsw93 supergroup  162001502 2024-03-18 23:54 /data/ghcnd/daily/2014.csv.gz\r\n",
      "-rw-r--r--   8 jsw93 supergroup  164505653 2024-03-18 23:51 /data/ghcnd/daily/2015.csv.gz\r\n",
      "-rw-r--r--   8 jsw93 supergroup  165878782 2024-03-18 23:55 /data/ghcnd/daily/2016.csv.gz\r\n",
      "-rw-r--r--   8 jsw93 supergroup  165424437 2024-03-18 23:56 /data/ghcnd/daily/2017.csv.gz\r\n",
      "-rw-r--r--   8 jsw93 supergroup  165557522 2024-03-18 23:54 /data/ghcnd/daily/2018.csv.gz\r\n",
      "-rw-r--r--   8 jsw93 supergroup  164349760 2024-03-18 23:52 /data/ghcnd/daily/2019.csv.gz\r\n",
      "-rw-r--r--   8 jsw93 supergroup  165180820 2024-03-18 23:56 /data/ghcnd/daily/2020.csv.gz\r\n",
      "-rw-r--r--   8 jsw93 supergroup  163364343 2024-03-18 23:49 /data/ghcnd/daily/2021.csv.gz\r\n",
      "-rw-r--r--   8 jsw93 supergroup  168594748 2024-03-18 23:55 /data/ghcnd/daily/2022.csv.gz\r\n",
      "-rw-r--r--   8 jsw93 supergroup  166367488 2024-03-18 23:54 /data/ghcnd/daily/2023.csv.gz\r\n",
      "-rw-r--r--   8 jsw93 supergroup   27492832 2024-03-18 23:54 /data/ghcnd/daily/2024.csv.gz\r\n"
     ]
    }
   ],
   "source": [
    "#a)\n",
    "! hdfs dfs -ls /data/ghcnd/daily"
   ]
  },
  {
   "cell_type": "markdown",
   "metadata": {},
   "source": [
    "Use the following command\n",
    "hdfs getconf -confKey \"dfs.blocksize\"\n",
    "to determine the default blocksize of HDFS"
   ]
  },
  {
   "cell_type": "code",
   "execution_count": 5,
   "metadata": {},
   "outputs": [
    {
     "name": "stdout",
     "output_type": "stream",
     "text": [
      "134217728\r\n"
     ]
    }
   ],
   "source": [
    "! hdfs getconf -confKey \"dfs.blocksize\""
   ]
  },
  {
   "cell_type": "markdown",
   "metadata": {},
   "source": [
    "### How many blocks are required for the daily\n",
    "### climate summaries for the year 2024? What about the year 2023? What are the individual\n",
    "### block sizes for the year 2023?"
   ]
  },
  {
   "cell_type": "code",
   "execution_count": 6,
   "metadata": {},
   "outputs": [
    {
     "name": "stdout",
     "output_type": "stream",
     "text": [
      "158.7 M  1.2 G  /data/ghcnd/daily/2023.csv.gz\n",
      "26.2 M  209.8 M  /data/ghcnd/daily/2024.csv.gz\n"
     ]
    }
   ],
   "source": [
    "!hdfs dfs -du -h /data/ghcnd/daily/2023.csv.gz\n",
    "!hdfs dfs -du -h /data/ghcnd/daily/2024.csv.gz"
   ]
  },
  {
   "cell_type": "code",
   "execution_count": 7,
   "metadata": {},
   "outputs": [
    {
     "name": "stdout",
     "output_type": "stream",
     "text": [
      "Connecting to namenode via http://masternode2:9870/fsck?ugi=uwi14&files=1&blocks=1&locations=1&path=%2Fdata%2Fghcnd%2Fdaily%2F2024.csv.gz\r\n",
      "FSCK started by uwi14 (auth:SIMPLE) from /192.168.40.11 for path /data/ghcnd/daily/2024.csv.gz at Mon Apr 22 20:39:57 NZST 2024\r\n",
      "\r\n",
      "/data/ghcnd/daily/2024.csv.gz 27492832 bytes, replicated: replication=8, 1 block(s):  OK\r\n",
      "0. BP-700027894-132.181.129.68-1626517177804:blk_1074057694_316881 len=27492832 Live_repl=8  [DatanodeInfoWithStorage[192.168.40.133:9866,DS-1395ddcb-8542-431a-8b4e-48509cab5de9,DISK], DatanodeInfoWithStorage[192.168.40.183:9866,DS-d547a5f3-b56f-45ab-81b8-e9d492a4e1d3,DISK], DatanodeInfoWithStorage[192.168.40.173:9866,DS-81ea4712-59d5-45a7-8d68-848697c8fac8,DISK], DatanodeInfoWithStorage[192.168.40.106:9866,DS-39db1648-d1af-450f-999c-277feea9beeb,DISK], DatanodeInfoWithStorage[192.168.40.159:9866,DS-93ea3ab4-4367-4d25-8560-df00f71281a3,DISK], DatanodeInfoWithStorage[192.168.40.102:9866,DS-33686d75-da76-41d8-97de-5c93688abb7a,DISK], DatanodeInfoWithStorage[192.168.40.136:9866,DS-9d6d27e6-ba50-4de0-b616-5a345ab60e3b,DISK], DatanodeInfoWithStorage[192.168.40.116:9866,DS-49765458-974a-4728-a1a5-09ee775a1b0f,DISK]]\r\n",
      "\r\n",
      "\r\n",
      "Status: HEALTHY\r\n",
      " Number of data-nodes:\t32\r\n",
      " Number of racks:\t\t1\r\n",
      " Total dirs:\t\t\t0\r\n",
      " Total symlinks:\t\t0\r\n",
      "\r\n",
      "Replicated Blocks:\r\n",
      " Total size:\t27492832 B\r\n",
      " Total files:\t1\r\n",
      " Total blocks (validated):\t1 (avg. block size 27492832 B)\r\n",
      " Minimally replicated blocks:\t1 (100.0 %)\r\n",
      " Over-replicated blocks:\t0 (0.0 %)\r\n",
      " Under-replicated blocks:\t0 (0.0 %)\r\n",
      " Mis-replicated blocks:\t\t0 (0.0 %)\r\n",
      " Default replication factor:\t4\r\n",
      " Average block replication:\t8.0\r\n",
      " Missing blocks:\t\t0\r\n",
      " Corrupt blocks:\t\t0\r\n",
      " Missing replicas:\t\t0 (0.0 %)\r\n",
      " Blocks queued for replication:\t0\r\n",
      "\r\n",
      "Erasure Coded Block Groups:\r\n",
      " Total size:\t0 B\r\n",
      " Total files:\t0\r\n",
      " Total block groups (validated):\t0\r\n",
      " Minimally erasure-coded block groups:\t0\r\n",
      " Over-erasure-coded block groups:\t0\r\n",
      " Under-erasure-coded block groups:\t0\r\n",
      " Unsatisfactory placement block groups:\t0\r\n",
      " Average block group size:\t0.0\r\n",
      " Missing block groups:\t\t0\r\n",
      " Corrupt block groups:\t\t0\r\n",
      " Missing internal blocks:\t0\r\n",
      " Blocks queued for replication:\t0\r\n",
      "FSCK ended at Mon Apr 22 20:39:57 NZST 2024 in 0 milliseconds\r\n",
      "\r\n",
      "\r\n",
      "The filesystem under path '/data/ghcnd/daily/2024.csv.gz' is HEALTHY\r\n"
     ]
    }
   ],
   "source": [
    "!hdfs fsck /data/ghcnd/daily/2024.csv.gz -files -blocks -locations"
   ]
  },
  {
   "cell_type": "code",
   "execution_count": 10,
   "metadata": {},
   "outputs": [
    {
     "name": "stdout",
     "output_type": "stream",
     "text": [
      "Connecting to namenode via http://masternode2:9870/fsck?ugi=uwi14&files=1&blocks=1&locations=1&path=%2Fdata%2Fghcnd%2Fdaily%2F2023.csv.gz\r\n",
      "FSCK started by uwi14 (auth:SIMPLE) from /192.168.40.11 for path /data/ghcnd/daily/2023.csv.gz at Sun Mar 31 23:39:15 NZDT 2024\r\n",
      "\r\n",
      "/data/ghcnd/daily/2023.csv.gz 166367488 bytes, replicated: replication=8, 2 block(s):  OK\r\n",
      "0. BP-700027894-132.181.129.68-1626517177804:blk_1074057666_316853 len=134217728 Live_repl=8  [DatanodeInfoWithStorage[192.168.40.126:9866,DS-6f3fc9d3-f21f-4098-9664-a781e15f486c,DISK], DatanodeInfoWithStorage[192.168.40.142:9866,DS-18323328-25b7-46b9-beea-a2d0a1ab6423,DISK], DatanodeInfoWithStorage[192.168.40.180:9866,DS-8012b6d5-226a-489a-bfa7-a2e221b8d1ff,DISK], DatanodeInfoWithStorage[192.168.40.158:9866,DS-60dfaa6a-f7a4-4d6c-8e44-70a79274b7af,DISK], DatanodeInfoWithStorage[192.168.40.116:9866,DS-49765458-974a-4728-a1a5-09ee775a1b0f,DISK], DatanodeInfoWithStorage[192.168.40.105:9866,DS-995c6d40-6fd7-4f6e-8812-148b6aac3e9f,DISK], DatanodeInfoWithStorage[192.168.40.173:9866,DS-81ea4712-59d5-45a7-8d68-848697c8fac8,DISK], DatanodeInfoWithStorage[192.168.40.134:9866,DS-0a049076-30db-4346-b90c-2e52cc905458,DISK]]\r\n",
      "1. BP-700027894-132.181.129.68-1626517177804:blk_1074057667_316854 len=32149760 Live_repl=8  [DatanodeInfoWithStorage[192.168.40.124:9866,DS-98d666aa-a90b-40e2-98e1-ef0a931efdea,DISK], DatanodeInfoWithStorage[192.168.40.146:9866,DS-78e0658d-eb04-4ecc-a5e9-d938d37304b4,DISK], DatanodeInfoWithStorage[192.168.40.120:9866,DS-925db2dc-b43d-4ab3-848e-57acd1ae88d3,DISK], DatanodeInfoWithStorage[192.168.40.193:9866,DS-c331f894-bf25-47be-8989-6f38e1fa2675,DISK], DatanodeInfoWithStorage[192.168.40.111:9866,DS-9f04b4e7-2c98-4092-8005-0cf47253c451,DISK], DatanodeInfoWithStorage[192.168.40.174:9866,DS-6c8993c4-e39f-461c-9347-168db5ab8e83,DISK], DatanodeInfoWithStorage[192.168.40.128:9866,DS-42ca684a-77fe-4b8d-ae26-3b87bee447b2,DISK], DatanodeInfoWithStorage[192.168.40.123:9866,DS-64cf2382-b841-480e-9496-9627bdefdeb9,DISK]]\r\n",
      "\r\n",
      "\r\n",
      "Status: HEALTHY\r\n",
      " Number of data-nodes:\t32\r\n",
      " Number of racks:\t\t1\r\n",
      " Total dirs:\t\t\t0\r\n",
      " Total symlinks:\t\t0\r\n",
      "\r\n",
      "Replicated Blocks:\r\n",
      " Total size:\t166367488 B\r\n",
      " Total files:\t1\r\n",
      " Total blocks (validated):\t2 (avg. block size 83183744 B)\r\n",
      " Minimally replicated blocks:\t2 (100.0 %)\r\n",
      " Over-replicated blocks:\t0 (0.0 %)\r\n",
      " Under-replicated blocks:\t0 (0.0 %)\r\n",
      " Mis-replicated blocks:\t\t0 (0.0 %)\r\n",
      " Default replication factor:\t4\r\n",
      " Average block replication:\t8.0\r\n",
      " Missing blocks:\t\t0\r\n",
      " Corrupt blocks:\t\t0\r\n",
      " Missing replicas:\t\t0 (0.0 %)\r\n",
      " Blocks queued for replication:\t0\r\n",
      "\r\n",
      "Erasure Coded Block Groups:\r\n",
      " Total size:\t0 B\r\n",
      " Total files:\t0\r\n",
      " Total block groups (validated):\t0\r\n",
      " Minimally erasure-coded block groups:\t0\r\n",
      " Over-erasure-coded block groups:\t0\r\n",
      " Under-erasure-coded block groups:\t0\r\n",
      " Unsatisfactory placement block groups:\t0\r\n",
      " Average block group size:\t0.0\r\n",
      " Missing block groups:\t\t0\r\n",
      " Corrupt block groups:\t\t0\r\n",
      " Missing internal blocks:\t0\r\n",
      " Blocks queued for replication:\t0\r\n",
      "FSCK ended at Sun Mar 31 23:39:15 NZDT 2024 in 0 milliseconds\r\n",
      "\r\n",
      "\r\n",
      "The filesystem under path '/data/ghcnd/daily/2023.csv.gz' is HEALTHY\r\n"
     ]
    }
   ],
   "source": [
    "!hdfs fsck /data/ghcnd/daily/2023.csv.gz -files -blocks -locations"
   ]
  },
  {
   "cell_type": "markdown",
   "metadata": {},
   "source": [
    "A HDFS block's default size is 134,217,728 bytes, or 128 megabytes. The compressed file size of the daily climate summary 2024 is 27,492,832 bytes (26.2 MB), which is smaller than the size of one HDFS block. So, 1 HDFS block is adequate for the daily climate summary in 2024.\n",
    "The file size of the daily climate summary 2023 is 166,367,488 bytes, which exceeds the HDFS block capacity. So, the daily climate summary 2023 will require two blocks, with the first block being 134,217,728 bytes (128 MB) and the second block with the size of 32,149,760bytes (30.99MB).\n"
   ]
  },
  {
   "cell_type": "markdown",
   "metadata": {},
   "source": [
    "### (b) Load and count the number of observations in 2023 and then separately in 2024.\n",
    "### How many tasks were executed by each stage of each job?"
   ]
  },
  {
   "cell_type": "code",
   "execution_count": 15,
   "metadata": {},
   "outputs": [
    {
     "name": "stdout",
     "output_type": "stream",
     "text": [
      "Number of observations in 2023: 37395852\n"
     ]
    }
   ],
   "source": [
    "#b)\n",
    "# Load the data for 2023\n",
    "data_2023 = spark.read.csv(\"/data/ghcnd/daily/2023.csv.gz\")\n",
    "\n",
    "# Count the number of observations for each year\n",
    "count_2023 = data_2023.count()\n",
    "\n",
    "print(f\"Number of observations in 2023: {count_2023}\")\n",
    "\n"
   ]
  },
  {
   "cell_type": "code",
   "execution_count": 4,
   "metadata": {},
   "outputs": [
    {
     "name": "stdout",
     "output_type": "stream",
     "text": [
      "Number of observations in 2024: 6061827\n"
     ]
    }
   ],
   "source": [
    "data_2024 = spark.read.csv(\"/data/ghcnd/daily/2024.csv.gz\")\n",
    "count_2024 = data_2024.count()\n",
    "print(f\"Number of observations in 2024: {count_2024}\")"
   ]
  },
  {
   "cell_type": "code",
   "execution_count": 12,
   "metadata": {},
   "outputs": [
    {
     "name": "stdout",
     "output_type": "stream",
     "text": [
      "Number of partitions in 2023 data: 1\n",
      "Number of partitions in 2024 data: 1\n"
     ]
    }
   ],
   "source": [
    "num_partitions_2023 = data_2023.rdd.getNumPartitions()\n",
    "num_partitions_2024 = data_2024.rdd.getNumPartitions()\n",
    "\n",
    "print(f\"Number of partitions in 2023 data: {num_partitions_2023}\")\n",
    "print(f\"Number of partitions in 2024 data: {num_partitions_2024}\")"
   ]
  },
  {
   "cell_type": "markdown",
   "metadata": {},
   "source": [
    "### Did the number of tasks executed correspond to the number of blocks in each input?"
   ]
  },
  {
   "cell_type": "markdown",
   "metadata": {},
   "source": [
    "The number of observations for daily climate summary in 2023 is 37,395,852 and in 2024 it is 6,061,827. When counting observations in 2023 and 2024, each job had two stages, each with a single task. Also, each year's files had one partition. This implies that, although having two blocks for the Daily climate summary 2023, there was only one task, and the Daily climate summary 2024 which has one block also has one task in each stage. "
   ]
  },
  {
   "cell_type": "markdown",
   "metadata": {},
   "source": [
    "### (c) Load and count the total number of observations in the years from 2014 to 2023 (inclusive). Note that you can use glob patterns in the path argument of the read command. Now how many tasks were executed by each stage, and how does this number correspond to your input?"
   ]
  },
  {
   "cell_type": "code",
   "execution_count": 19,
   "metadata": {},
   "outputs": [
    {
     "name": "stdout",
     "output_type": "stream",
     "text": [
      "Total number of observations from 2014 to 2023: 369419055\n"
     ]
    }
   ],
   "source": [
    "years = list(range(2014, 2024)) \n",
    "paths = [f\"/data/ghcnd/daily/{year}.csv.gz\" for year in years]\n",
    "\n",
    "data_2014_2023 = spark.read.option(\"header\", \"true\").csv(paths)\n",
    "count = data_2014_2023 .count()\n",
    "print(f\"Total number of observations from 2014 to 2023: {count}\")"
   ]
  },
  {
   "cell_type": "code",
   "execution_count": 23,
   "metadata": {},
   "outputs": [
    {
     "name": "stdout",
     "output_type": "stream",
     "text": [
      "Number of partitions: 10\n"
     ]
    }
   ],
   "source": [
    "print(f\"Number of partitions: {data_2014_2023.rdd.getNumPartitions()}\")"
   ]
  },
  {
   "cell_type": "markdown",
   "metadata": {},
   "source": [
    "From the year 2014 to 2023, there are total 10 files and 369,419,055 observations in total. The number of partitions for these input data is 10 which is equal to the number of distinct files. So, in each stage there could be 10 tasks in total. "
   ]
  },
  {
   "cell_type": "markdown",
   "metadata": {},
   "source": [
    "### Explain how Spark partitions input files that are compressed.\n"
   ]
  },
  {
   "cell_type": "markdown",
   "metadata": {},
   "source": [
    "When Spark reads a compressed input file, the way it partitions the data depends on the type of compression used. For compression formats like bzip2 that allow partitioning, Spark can create a task for each compressed block, allowing for parallel processing. This means that even if the data is compressed, Spark can use all available resources in the cluster to read and process the data simultaneously.\n",
    "\n",
    "On the other hand, for compression formats that don't allow partitioning, like gzip, Spark treats the entire compressed file as a single block, resulting in a single task processing it. This limits parallelism because even if your cluster has significant resources, Spark can only use one task to process the entire compressed file.\n",
    "\n",
    "Thus, the choice of compression format can greatly affect the performance of the Spark application. If the priority is to maximize parallelism, a partitionable compression format might be the best option. But the focus is on conserving storage space or reducing network bandwidth, a non-partitionable compression format could be more beneficial."
   ]
  },
  {
   "cell_type": "markdown",
   "metadata": {},
   "source": [
    "### (d) Based on parts (b) and (c), how many tasks do you think would run in parallel when loading and applying transformations to all of daily? Can you think of any practical way you could increase this either in Spark or changing how the data is stored in HDFS?"
   ]
  },
  {
   "cell_type": "markdown",
   "metadata": {},
   "source": [
    "The daily climate summaries for 2023 and 2024 should ideally require 2 and 1 HDFS blocks, suggesting that Spark would execute 2 and 1 tasks when reading these files. However, since the files are compressed in .gz format, each file is treated as a single block. This results in Spark processing each file with just one task, regardless of its original block count. \n",
    "\n",
    "To boost parallelism when processing large datasets, we can increase the number of partitions at each stage. This leads to more tasks running simultaneously, enhancing processing speed. By explicitly setting a higher number of partitions when reading data, Spark creates additional blocks, allowing more tasks to run in parallel. Using partitionable compression formats, like bzip2, supports this approach, as Spark can assign a task to each block within these compressed files, maximizing parallelism. Adjusting Spark's configuration can also increase parallelism. This can be done by increasing the number of tasks per core or adding more cores to the Spark application, allowing more tasks to run concurrently.\n"
   ]
  },
  {
   "cell_type": "code",
   "execution_count": 17,
   "metadata": {},
   "outputs": [
    {
     "data": {
      "text/html": [
       "<p><b>Spark</b></p><p>The spark session is <b><span style=\"color:red\">stopped</span></b>, confirm that <code>uwi14 (jupyter)</code> is under the completed applications section in the Spark UI.</p><ul><li><a href=\"http://mathmadslinux2p.canterbury.ac.nz:8080/\" target=\"_blank\">Spark UI</a></li></ul>"
      ],
      "text/plain": [
       "<IPython.core.display.HTML object>"
      ]
     },
     "metadata": {},
     "output_type": "display_data"
    }
   ],
   "source": [
    "# Run this cell before closing the notebook or kill your spark application by hand using the link in the Spark UI\n",
    "\n",
    "stop_spark()"
   ]
  },
  {
   "cell_type": "code",
   "execution_count": null,
   "metadata": {},
   "outputs": [],
   "source": []
  }
 ],
 "metadata": {
  "kernelspec": {
   "display_name": "Python 3",
   "language": "python",
   "name": "python3"
  },
  "language_info": {
   "codemirror_mode": {
    "name": "ipython",
    "version": 3
   },
   "file_extension": ".py",
   "mimetype": "text/x-python",
   "name": "python",
   "nbconvert_exporter": "python",
   "pygments_lexer": "ipython3",
   "version": "3.7.0"
  }
 },
 "nbformat": 4,
 "nbformat_minor": 2
}
